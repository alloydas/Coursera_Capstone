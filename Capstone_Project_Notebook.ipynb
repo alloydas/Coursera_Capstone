{
  "nbformat": 4,
  "nbformat_minor": 0,
  "metadata": {
    "colab": {
      "name": " Capstone Project Notebook.ipynb",
      "provenance": [],
      "toc_visible": true,
      "mount_file_id": "11yA7TUkQQDgn763uSoQvLwdvCaOTzZlr",
      "authorship_tag": "ABX9TyNBfSklG6vSoZQP5CnFWk1I",
      "include_colab_link": true
    },
    "kernelspec": {
      "name": "python3",
      "display_name": "Python 3"
    },
    "language_info": {
      "name": "python"
    }
  },
  "cells": [
    {
      "cell_type": "markdown",
      "metadata": {
        "id": "view-in-github",
        "colab_type": "text"
      },
      "source": [
        "<a href=\"https://colab.research.google.com/github/alloydas/Coursera_Capstone1/blob/main/Capstone_Project_Notebook.ipynb\" target=\"_parent\"><img src=\"https://colab.research.google.com/assets/colab-badge.svg\" alt=\"Open In Colab\"/></a>"
      ]
    },
    {
      "cell_type": "markdown",
      "metadata": {
        "id": "WFFWFFaY2fky"
      },
      "source": [
        "# **Data Science Coursera Capstone**"
      ]
    },
    {
      "cell_type": "markdown",
      "metadata": {
        "id": "4bwvd7-r2mSH"
      },
      "source": [
        "The Aim of this notebook is to complete the IBM Data Science Coursera Capstone project.\n",
        "\n"
      ]
    },
    {
      "cell_type": "code",
      "metadata": {
        "id": "KzaO5n3e2do4"
      },
      "source": [
        "import pandas as pd\n",
        "import numpy as np"
      ],
      "execution_count": 1,
      "outputs": []
    },
    {
      "cell_type": "code",
      "metadata": {
        "id": "vB0awXxL2r3a"
      },
      "source": [
        "print('Hello Capstone Project Course!')"
      ],
      "execution_count": null,
      "outputs": []
    }
  ]
}