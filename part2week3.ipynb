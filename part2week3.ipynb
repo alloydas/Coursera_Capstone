{
  "nbformat": 4,
  "nbformat_minor": 0,
  "metadata": {
    "colab": {
      "name": "part2week3.ipynb",
      "provenance": [],
      "mount_file_id": "1COecIJrWcKpqhCfBcY6RGMmEG7PZTdhZ",
      "authorship_tag": "ABX9TyNqsQ++I9gRXPeJQONxqTgi",
      "include_colab_link": true
    },
    "kernelspec": {
      "name": "python3",
      "display_name": "Python 3"
    },
    "language_info": {
      "name": "python"
    }
  },
  "cells": [
    {
      "cell_type": "markdown",
      "metadata": {
        "id": "view-in-github",
        "colab_type": "text"
      },
      "source": [
        "<a href=\"https://colab.research.google.com/github/alloydas/Coursera_Capstone/blob/main/part2week3.ipynb\" target=\"_parent\"><img src=\"https://colab.research.google.com/assets/colab-badge.svg\" alt=\"Open In Colab\"/></a>"
      ]
    },
    {
      "cell_type": "markdown",
      "metadata": {
        "id": "lAn2qoYEObMI"
      },
      "source": [
        "# **Segmenting and Clustering Neighborhoods in Toronto | Part-2**\n",
        "Author Alloy Das"
      ]
    },
    {
      "cell_type": "code",
      "metadata": {
        "colab": {
          "base_uri": "https://localhost:8080/"
        },
        "id": "L_rrEvHiONef",
        "outputId": "d0382d7f-f042-4974-b031-907b0d56e153"
      },
      "source": [
        "!pip install geocoder"
      ],
      "execution_count": 1,
      "outputs": [
        {
          "output_type": "stream",
          "text": [
            "Collecting geocoder\n",
            "\u001b[?25l  Downloading https://files.pythonhosted.org/packages/4f/6b/13166c909ad2f2d76b929a4227c952630ebaf0d729f6317eb09cbceccbab/geocoder-1.38.1-py2.py3-none-any.whl (98kB)\n",
            "\r\u001b[K     |███▎                            | 10kB 15.6MB/s eta 0:00:01\r\u001b[K     |██████▋                         | 20kB 21.6MB/s eta 0:00:01\r\u001b[K     |██████████                      | 30kB 26.4MB/s eta 0:00:01\r\u001b[K     |█████████████▎                  | 40kB 26.7MB/s eta 0:00:01\r\u001b[K     |████████████████▋               | 51kB 28.2MB/s eta 0:00:01\r\u001b[K     |████████████████████            | 61kB 21.1MB/s eta 0:00:01\r\u001b[K     |███████████████████████▎        | 71kB 21.8MB/s eta 0:00:01\r\u001b[K     |██████████████████████████▋     | 81kB 18.8MB/s eta 0:00:01\r\u001b[K     |██████████████████████████████  | 92kB 17.8MB/s eta 0:00:01\r\u001b[K     |████████████████████████████████| 102kB 8.0MB/s \n",
            "\u001b[?25hRequirement already satisfied: requests in /usr/local/lib/python3.7/dist-packages (from geocoder) (2.23.0)\n",
            "Requirement already satisfied: future in /usr/local/lib/python3.7/dist-packages (from geocoder) (0.16.0)\n",
            "Requirement already satisfied: click in /usr/local/lib/python3.7/dist-packages (from geocoder) (7.1.2)\n",
            "Requirement already satisfied: six in /usr/local/lib/python3.7/dist-packages (from geocoder) (1.15.0)\n",
            "Collecting ratelim\n",
            "  Downloading https://files.pythonhosted.org/packages/f2/98/7e6d147fd16a10a5f821db6e25f192265d6ecca3d82957a4fdd592cad49c/ratelim-0.1.6-py2.py3-none-any.whl\n",
            "Requirement already satisfied: chardet<4,>=3.0.2 in /usr/local/lib/python3.7/dist-packages (from requests->geocoder) (3.0.4)\n",
            "Requirement already satisfied: urllib3!=1.25.0,!=1.25.1,<1.26,>=1.21.1 in /usr/local/lib/python3.7/dist-packages (from requests->geocoder) (1.24.3)\n",
            "Requirement already satisfied: idna<3,>=2.5 in /usr/local/lib/python3.7/dist-packages (from requests->geocoder) (2.10)\n",
            "Requirement already satisfied: certifi>=2017.4.17 in /usr/local/lib/python3.7/dist-packages (from requests->geocoder) (2020.12.5)\n",
            "Requirement already satisfied: decorator in /usr/local/lib/python3.7/dist-packages (from ratelim->geocoder) (4.4.2)\n",
            "Installing collected packages: ratelim, geocoder\n",
            "Successfully installed geocoder-1.38.1 ratelim-0.1.6\n"
          ],
          "name": "stdout"
        }
      ]
    },
    {
      "cell_type": "code",
      "metadata": {
        "colab": {
          "base_uri": "https://localhost:8080/"
        },
        "id": "b6LvIo2wOlij",
        "outputId": "99e7b56a-1ec4-4576-c4da-24a8f1034cfd"
      },
      "source": [
        "import pandas as pd\n",
        "import numpy as np\n",
        "import geocoder\n",
        "print(\"Imported!\")"
      ],
      "execution_count": 2,
      "outputs": [
        {
          "output_type": "stream",
          "text": [
            "Imported!\n"
          ],
          "name": "stdout"
        }
      ]
    },
    {
      "cell_type": "code",
      "metadata": {
        "colab": {
          "base_uri": "https://localhost:8080/",
          "height": 204
        },
        "id": "GUF6XdcYOoHM",
        "outputId": "8e07d5ca-710f-4ea9-b840-2ccb21d56244"
      },
      "source": [
        "df = pd.read_csv('/content/drive/MyDrive/toronto.csv')\n",
        "df.head()"
      ],
      "execution_count": 3,
      "outputs": [
        {
          "output_type": "execute_result",
          "data": {
            "text/html": [
              "<div>\n",
              "<style scoped>\n",
              "    .dataframe tbody tr th:only-of-type {\n",
              "        vertical-align: middle;\n",
              "    }\n",
              "\n",
              "    .dataframe tbody tr th {\n",
              "        vertical-align: top;\n",
              "    }\n",
              "\n",
              "    .dataframe thead th {\n",
              "        text-align: right;\n",
              "    }\n",
              "</style>\n",
              "<table border=\"1\" class=\"dataframe\">\n",
              "  <thead>\n",
              "    <tr style=\"text-align: right;\">\n",
              "      <th></th>\n",
              "      <th>Postalcode</th>\n",
              "      <th>Borough</th>\n",
              "      <th>Neighborhood</th>\n",
              "    </tr>\n",
              "  </thead>\n",
              "  <tbody>\n",
              "    <tr>\n",
              "      <th>0</th>\n",
              "      <td>\\nM1ANot assigned\\n\\n</td>\n",
              "      <td>\\nM2ANot assigned\\n\\n</td>\n",
              "      <td>M9AEtobicoke(Islington Avenue)</td>\n",
              "    </tr>\n",
              "    <tr>\n",
              "      <th>1</th>\n",
              "      <td>\\nM1BScarborough(Malvern / Rouge)\\n\\n</td>\n",
              "      <td>\\nM2BNot assigned\\n\\n</td>\n",
              "      <td>M9BEtobicoke(West Deane Park / Princess Garden...</td>\n",
              "    </tr>\n",
              "    <tr>\n",
              "      <th>2</th>\n",
              "      <td>\\nM1CScarborough(Rouge Hill / Port Union / Hig...</td>\n",
              "      <td>\\nM2CNot assigned\\n\\n</td>\n",
              "      <td>M9CEtobicoke(Eringate / Bloordale Gardens / Ol...</td>\n",
              "    </tr>\n",
              "    <tr>\n",
              "      <th>3</th>\n",
              "      <td>\\nM1EScarborough(Guildwood / Morningside / Wes...</td>\n",
              "      <td>\\nM2ENot assigned\\n\\n</td>\n",
              "      <td>M9ENot assigned</td>\n",
              "    </tr>\n",
              "    <tr>\n",
              "      <th>4</th>\n",
              "      <td>\\nM1GScarborough(Woburn)\\n\\n</td>\n",
              "      <td>\\nM2GNot assigned\\n\\n</td>\n",
              "      <td>M9GNot assigned</td>\n",
              "    </tr>\n",
              "  </tbody>\n",
              "</table>\n",
              "</div>"
            ],
            "text/plain": [
              "                                          Postalcode  ...                                       Neighborhood\n",
              "0                              \\nM1ANot assigned\\n\\n  ...                     M9AEtobicoke(Islington Avenue)\n",
              "1              \\nM1BScarborough(Malvern / Rouge)\\n\\n  ...  M9BEtobicoke(West Deane Park / Princess Garden...\n",
              "2  \\nM1CScarborough(Rouge Hill / Port Union / Hig...  ...  M9CEtobicoke(Eringate / Bloordale Gardens / Ol...\n",
              "3  \\nM1EScarborough(Guildwood / Morningside / Wes...  ...                                    M9ENot assigned\n",
              "4                       \\nM1GScarborough(Woburn)\\n\\n  ...                                    M9GNot assigned\n",
              "\n",
              "[5 rows x 3 columns]"
            ]
          },
          "metadata": {
            "tags": []
          },
          "execution_count": 3
        }
      ]
    },
    {
      "cell_type": "code",
      "metadata": {
        "colab": {
          "base_uri": "https://localhost:8080/",
          "height": 192
        },
        "id": "5BlL3C_fPTAN",
        "outputId": "93bbd572-5aab-442f-acd1-69690de22afd"
      },
      "source": [
        "print(df.shape)\n",
        "df.describe()"
      ],
      "execution_count": 4,
      "outputs": [
        {
          "output_type": "stream",
          "text": [
            "(20, 3)\n"
          ],
          "name": "stdout"
        },
        {
          "output_type": "execute_result",
          "data": {
            "text/html": [
              "<div>\n",
              "<style scoped>\n",
              "    .dataframe tbody tr th:only-of-type {\n",
              "        vertical-align: middle;\n",
              "    }\n",
              "\n",
              "    .dataframe tbody tr th {\n",
              "        vertical-align: top;\n",
              "    }\n",
              "\n",
              "    .dataframe thead th {\n",
              "        text-align: right;\n",
              "    }\n",
              "</style>\n",
              "<table border=\"1\" class=\"dataframe\">\n",
              "  <thead>\n",
              "    <tr style=\"text-align: right;\">\n",
              "      <th></th>\n",
              "      <th>Postalcode</th>\n",
              "      <th>Borough</th>\n",
              "      <th>Neighborhood</th>\n",
              "    </tr>\n",
              "  </thead>\n",
              "  <tbody>\n",
              "    <tr>\n",
              "      <th>count</th>\n",
              "      <td>20</td>\n",
              "      <td>20</td>\n",
              "      <td>20</td>\n",
              "    </tr>\n",
              "    <tr>\n",
              "      <th>unique</th>\n",
              "      <td>20</td>\n",
              "      <td>20</td>\n",
              "      <td>20</td>\n",
              "    </tr>\n",
              "    <tr>\n",
              "      <th>top</th>\n",
              "      <td>\\nM1YNot assigned\\n\\n</td>\n",
              "      <td>\\nM2XNot assigned\\n\\n</td>\n",
              "      <td>M9ZNot assigned</td>\n",
              "    </tr>\n",
              "    <tr>\n",
              "      <th>freq</th>\n",
              "      <td>1</td>\n",
              "      <td>1</td>\n",
              "      <td>1</td>\n",
              "    </tr>\n",
              "  </tbody>\n",
              "</table>\n",
              "</div>"
            ],
            "text/plain": [
              "                   Postalcode                Borough     Neighborhood\n",
              "count                      20                     20               20\n",
              "unique                     20                     20               20\n",
              "top     \\nM1YNot assigned\\n\\n  \\nM2XNot assigned\\n\\n  M9ZNot assigned\n",
              "freq                        1                      1                1"
            ]
          },
          "metadata": {
            "tags": []
          },
          "execution_count": 4
        }
      ]
    },
    {
      "cell_type": "code",
      "metadata": {
        "colab": {
          "base_uri": "https://localhost:8080/"
        },
        "id": "zKJB8KvvPXMU",
        "outputId": "907a7005-ca14-4eba-8d22-1a37ed69e39d"
      },
      "source": [
        "def get_latilong(postal_code):\n",
        "    lati_long_coords = None\n",
        "    while(lati_long_coords is None):\n",
        "        g = geocoder.arcgis('{}, Toronto, Ontario'.format(postal_code))\n",
        "        lati_long_coords = g.latlng\n",
        "    return lati_long_coords\n",
        "    \n",
        "get_latilong('M4G')"
      ],
      "execution_count": 5,
      "outputs": [
        {
          "output_type": "execute_result",
          "data": {
            "text/plain": [
              "[43.709020000000066, -79.36348999999996]"
            ]
          },
          "metadata": {
            "tags": []
          },
          "execution_count": 5
        }
      ]
    },
    {
      "cell_type": "code",
      "metadata": {
        "id": "CtvsysY-PZlp"
      },
      "source": [
        "postal_codes = df['Postalcode']    \n",
        "coords = [ get_latilong(postal_code) for postal_code in postal_codes.tolist() ]"
      ],
      "execution_count": 6,
      "outputs": []
    },
    {
      "cell_type": "code",
      "metadata": {
        "id": "aOa377FxPcG9"
      },
      "source": [
        "df_coords = pd.DataFrame(coords, columns=['Latitude', 'Longitude'])\n",
        "df['Latitude'] = df_coords['Latitude']\n",
        "df['Longitude'] = df_coords['Longitude']"
      ],
      "execution_count": 7,
      "outputs": []
    },
    {
      "cell_type": "code",
      "metadata": {
        "colab": {
          "base_uri": "https://localhost:8080/",
          "height": 49
        },
        "id": "8dAdLjfgPeXp",
        "outputId": "989968bf-70a2-4b4b-f2c5-dd9cd27aa2b6"
      },
      "source": [
        "df[df.Postalcode == 'M5G']"
      ],
      "execution_count": 8,
      "outputs": [
        {
          "output_type": "execute_result",
          "data": {
            "text/html": [
              "<div>\n",
              "<style scoped>\n",
              "    .dataframe tbody tr th:only-of-type {\n",
              "        vertical-align: middle;\n",
              "    }\n",
              "\n",
              "    .dataframe tbody tr th {\n",
              "        vertical-align: top;\n",
              "    }\n",
              "\n",
              "    .dataframe thead th {\n",
              "        text-align: right;\n",
              "    }\n",
              "</style>\n",
              "<table border=\"1\" class=\"dataframe\">\n",
              "  <thead>\n",
              "    <tr style=\"text-align: right;\">\n",
              "      <th></th>\n",
              "      <th>Postalcode</th>\n",
              "      <th>Borough</th>\n",
              "      <th>Neighborhood</th>\n",
              "      <th>Latitude</th>\n",
              "      <th>Longitude</th>\n",
              "    </tr>\n",
              "  </thead>\n",
              "  <tbody>\n",
              "  </tbody>\n",
              "</table>\n",
              "</div>"
            ],
            "text/plain": [
              "Empty DataFrame\n",
              "Columns: [Postalcode, Borough, Neighborhood, Latitude, Longitude]\n",
              "Index: []"
            ]
          },
          "metadata": {
            "tags": []
          },
          "execution_count": 8
        }
      ]
    },
    {
      "cell_type": "code",
      "metadata": {
        "colab": {
          "base_uri": "https://localhost:8080/",
          "height": 514
        },
        "id": "QOatA2KDPg6t",
        "outputId": "6dd7bcc7-9213-48a5-adb0-dd3f3097bd29"
      },
      "source": [
        "\n",
        "df.head(15)"
      ],
      "execution_count": 9,
      "outputs": [
        {
          "output_type": "execute_result",
          "data": {
            "text/html": [
              "<div>\n",
              "<style scoped>\n",
              "    .dataframe tbody tr th:only-of-type {\n",
              "        vertical-align: middle;\n",
              "    }\n",
              "\n",
              "    .dataframe tbody tr th {\n",
              "        vertical-align: top;\n",
              "    }\n",
              "\n",
              "    .dataframe thead th {\n",
              "        text-align: right;\n",
              "    }\n",
              "</style>\n",
              "<table border=\"1\" class=\"dataframe\">\n",
              "  <thead>\n",
              "    <tr style=\"text-align: right;\">\n",
              "      <th></th>\n",
              "      <th>Postalcode</th>\n",
              "      <th>Borough</th>\n",
              "      <th>Neighborhood</th>\n",
              "      <th>Latitude</th>\n",
              "      <th>Longitude</th>\n",
              "    </tr>\n",
              "  </thead>\n",
              "  <tbody>\n",
              "    <tr>\n",
              "      <th>0</th>\n",
              "      <td>\\nM1ANot assigned\\n\\n</td>\n",
              "      <td>\\nM2ANot assigned\\n\\n</td>\n",
              "      <td>M9AEtobicoke(Islington Avenue)</td>\n",
              "      <td>43.648690</td>\n",
              "      <td>-79.385440</td>\n",
              "    </tr>\n",
              "    <tr>\n",
              "      <th>1</th>\n",
              "      <td>\\nM1BScarborough(Malvern / Rouge)\\n\\n</td>\n",
              "      <td>\\nM2BNot assigned\\n\\n</td>\n",
              "      <td>M9BEtobicoke(West Deane Park / Princess Garden...</td>\n",
              "      <td>43.810230</td>\n",
              "      <td>-79.220380</td>\n",
              "    </tr>\n",
              "    <tr>\n",
              "      <th>2</th>\n",
              "      <td>\\nM1CScarborough(Rouge Hill / Port Union / Hig...</td>\n",
              "      <td>\\nM2CNot assigned\\n\\n</td>\n",
              "      <td>M9CEtobicoke(Eringate / Bloordale Gardens / Ol...</td>\n",
              "      <td>43.787160</td>\n",
              "      <td>-79.132520</td>\n",
              "    </tr>\n",
              "    <tr>\n",
              "      <th>3</th>\n",
              "      <td>\\nM1EScarborough(Guildwood / Morningside / Wes...</td>\n",
              "      <td>\\nM2ENot assigned\\n\\n</td>\n",
              "      <td>M9ENot assigned</td>\n",
              "      <td>43.749530</td>\n",
              "      <td>-79.189920</td>\n",
              "    </tr>\n",
              "    <tr>\n",
              "      <th>4</th>\n",
              "      <td>\\nM1GScarborough(Woburn)\\n\\n</td>\n",
              "      <td>\\nM2GNot assigned\\n\\n</td>\n",
              "      <td>M9GNot assigned</td>\n",
              "      <td>43.767480</td>\n",
              "      <td>-79.228290</td>\n",
              "    </tr>\n",
              "    <tr>\n",
              "      <th>5</th>\n",
              "      <td>\\nM1HScarborough(Cedarbrae)\\n\\n</td>\n",
              "      <td>\\nM2HNorth York(Hillcrest Village)\\n\\n</td>\n",
              "      <td>M9HNot assigned</td>\n",
              "      <td>43.741679</td>\n",
              "      <td>-79.232559</td>\n",
              "    </tr>\n",
              "    <tr>\n",
              "      <th>6</th>\n",
              "      <td>\\nM1JScarborough(Scarborough Village)\\n\\n</td>\n",
              "      <td>\\nM2JNorth York(Fairview / Henry Farm / Oriole...</td>\n",
              "      <td>M9JNot assigned</td>\n",
              "      <td>43.738650</td>\n",
              "      <td>-79.216990</td>\n",
              "    </tr>\n",
              "    <tr>\n",
              "      <th>7</th>\n",
              "      <td>\\nM1KScarborough(Kennedy Park / Ionview / East...</td>\n",
              "      <td>\\nM2KNorth York(Bayview Village)\\n\\n</td>\n",
              "      <td>M9KNot assigned</td>\n",
              "      <td>43.725870</td>\n",
              "      <td>-79.262290</td>\n",
              "    </tr>\n",
              "    <tr>\n",
              "      <th>8</th>\n",
              "      <td>\\nM1LScarborough(Golden Mile / Clairlea / Oakr...</td>\n",
              "      <td>\\nM2LNorth York(York Mills / Silver Hills)\\n\\n</td>\n",
              "      <td>M9LNorth York(Humber Summit)</td>\n",
              "      <td>43.698830</td>\n",
              "      <td>-79.279120</td>\n",
              "    </tr>\n",
              "    <tr>\n",
              "      <th>9</th>\n",
              "      <td>\\nM1MScarborough(Cliffside / Cliffcrest / Scar...</td>\n",
              "      <td>\\nM2MNorth York(Willowdale / Newtonbrook)\\n\\n</td>\n",
              "      <td>M9MNorth York(Humberlea / Emery)</td>\n",
              "      <td>43.726420</td>\n",
              "      <td>-79.232970</td>\n",
              "    </tr>\n",
              "    <tr>\n",
              "      <th>10</th>\n",
              "      <td>\\nM1NScarborough(Birch Cliff / Cliffside West)...</td>\n",
              "      <td>\\nM2NNorth York(Willowdale)South\\n\\n</td>\n",
              "      <td>M9NYork(Weston)</td>\n",
              "      <td>43.694720</td>\n",
              "      <td>-79.264600</td>\n",
              "    </tr>\n",
              "    <tr>\n",
              "      <th>11</th>\n",
              "      <td>\\nM1PScarborough(Dorset Park / Wexford Heights...</td>\n",
              "      <td>\\nM2PNorth York(York Mills West)\\n\\n</td>\n",
              "      <td>M9PEtobicoke(Westmount)</td>\n",
              "      <td>43.737040</td>\n",
              "      <td>-79.276940</td>\n",
              "    </tr>\n",
              "    <tr>\n",
              "      <th>12</th>\n",
              "      <td>\\nM1RScarborough(Wexford / Maryvale)\\n\\n</td>\n",
              "      <td>\\nM2RNorth York(Willowdale)West\\n\\n</td>\n",
              "      <td>M9REtobicoke(Kingsview Village / St. Phillips ...</td>\n",
              "      <td>43.748600</td>\n",
              "      <td>-79.298020</td>\n",
              "    </tr>\n",
              "    <tr>\n",
              "      <th>13</th>\n",
              "      <td>\\nM1SScarborough(Agincourt) \\n\\n</td>\n",
              "      <td>\\nM2SNot assigned\\n\\n</td>\n",
              "      <td>M9SNot assigned</td>\n",
              "      <td>43.786260</td>\n",
              "      <td>-79.280840</td>\n",
              "    </tr>\n",
              "    <tr>\n",
              "      <th>14</th>\n",
              "      <td>\\nM1TScarborough(Clarks Corners / Tam O'Shante...</td>\n",
              "      <td>\\nM2TNot assigned\\n\\n</td>\n",
              "      <td>M9TNot assigned</td>\n",
              "      <td>43.786430</td>\n",
              "      <td>-79.301560</td>\n",
              "    </tr>\n",
              "  </tbody>\n",
              "</table>\n",
              "</div>"
            ],
            "text/plain": [
              "                                           Postalcode  ...  Longitude\n",
              "0                               \\nM1ANot assigned\\n\\n  ... -79.385440\n",
              "1               \\nM1BScarborough(Malvern / Rouge)\\n\\n  ... -79.220380\n",
              "2   \\nM1CScarborough(Rouge Hill / Port Union / Hig...  ... -79.132520\n",
              "3   \\nM1EScarborough(Guildwood / Morningside / Wes...  ... -79.189920\n",
              "4                        \\nM1GScarborough(Woburn)\\n\\n  ... -79.228290\n",
              "5                     \\nM1HScarborough(Cedarbrae)\\n\\n  ... -79.232559\n",
              "6           \\nM1JScarborough(Scarborough Village)\\n\\n  ... -79.216990\n",
              "7   \\nM1KScarborough(Kennedy Park / Ionview / East...  ... -79.262290\n",
              "8   \\nM1LScarborough(Golden Mile / Clairlea / Oakr...  ... -79.279120\n",
              "9   \\nM1MScarborough(Cliffside / Cliffcrest / Scar...  ... -79.232970\n",
              "10  \\nM1NScarborough(Birch Cliff / Cliffside West)...  ... -79.264600\n",
              "11  \\nM1PScarborough(Dorset Park / Wexford Heights...  ... -79.276940\n",
              "12           \\nM1RScarborough(Wexford / Maryvale)\\n\\n  ... -79.298020\n",
              "13                   \\nM1SScarborough(Agincourt) \\n\\n  ... -79.280840\n",
              "14  \\nM1TScarborough(Clarks Corners / Tam O'Shante...  ... -79.301560\n",
              "\n",
              "[15 rows x 5 columns]"
            ]
          },
          "metadata": {
            "tags": []
          },
          "execution_count": 9
        }
      ]
    },
    {
      "cell_type": "code",
      "metadata": {
        "id": "U2rCwwkxPjoQ"
      },
      "source": [
        "df.to_csv('/content/drive/MyDrive/toronto_part2.csv',index=False)"
      ],
      "execution_count": 10,
      "outputs": []
    },
    {
      "cell_type": "code",
      "metadata": {
        "id": "Sq7iDYyjPocV"
      },
      "source": [
        ""
      ],
      "execution_count": null,
      "outputs": []
    }
  ]
}