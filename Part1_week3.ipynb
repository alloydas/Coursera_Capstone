{
  "nbformat": 4,
  "nbformat_minor": 0,
  "metadata": {
    "colab": {
      "name": "Part1 week3.ipynb",
      "provenance": [],
      "authorship_tag": "ABX9TyOLUuxBgMcLEtKN127s/Oiv",
      "include_colab_link": true
    },
    "kernelspec": {
      "name": "python3",
      "display_name": "Python 3"
    },
    "language_info": {
      "name": "python"
    }
  },
  "cells": [
    {
      "cell_type": "markdown",
      "metadata": {
        "id": "view-in-github",
        "colab_type": "text"
      },
      "source": [
        "<a href=\"https://colab.research.google.com/github/alloydas/Coursera_Capstone/blob/main/Part1_week3.ipynb\" target=\"_parent\"><img src=\"https://colab.research.google.com/assets/colab-badge.svg\" alt=\"Open In Colab\"/></a>"
      ]
    },
    {
      "cell_type": "markdown",
      "metadata": {
        "id": "QvBjqUMAI4Nx"
      },
      "source": [
        "\n",
        "# **Segmenting and Clustering Neighbourhoods in Toronto**\n",
        "Author Alloy Das"
      ]
    },
    {
      "cell_type": "code",
      "metadata": {
        "colab": {
          "base_uri": "https://localhost:8080/"
        },
        "id": "RUVSXxlwIu-a",
        "outputId": "9516d936-4e21-408b-c83b-3f23c6a304bd"
      },
      "source": [
        "import pandas as pd\n",
        "import requests\n",
        "from bs4 import BeautifulSoup\n",
        "print(\"Imported!\")"
      ],
      "execution_count": 25,
      "outputs": [
        {
          "output_type": "stream",
          "text": [
            "Imported!\n"
          ],
          "name": "stdout"
        }
      ]
    },
    {
      "cell_type": "code",
      "metadata": {
        "id": "afj2DqofMzqH"
      },
      "source": [
        "url = \"https://en.wikipedia.org/wiki/List_of_postal_codes_of_Canada:_M\"\n",
        "extracting_data = requests.get(url).text\n",
        "wiki_data = BeautifulSoup(extracting_data, 'lxml')"
      ],
      "execution_count": 26,
      "outputs": []
    },
    {
      "cell_type": "code",
      "metadata": {
        "id": "fuh08G8fMiU4"
      },
      "source": [
        "column_names = ['Postalcode','Borough','Neighborhood']\n",
        "toronto = pd.DataFrame(columns = column_names)\n",
        "\n",
        "content = wiki_data.find('div', class_='mw-parser-output')\n",
        "table = content.table.tbody\n",
        "postcode = 0\n",
        "borough = 0\n",
        "neighborhood = 0\n",
        "\n",
        "for tr in table.find_all('tr'):\n",
        "    i = 0\n",
        "    for td in tr.find_all('td'):\n",
        "        if i == 0:\n",
        "            postcode = td.text\n",
        "            i = i + 1\n",
        "        elif i == 1:\n",
        "            borough = td.text\n",
        "            i = i + 1\n",
        "        elif i == 2: \n",
        "            neighborhood = td.text.strip('\\n').replace(']','')\n",
        "    toronto = toronto.append({'Postalcode': postcode,'Borough': borough,'Neighborhood': neighborhood},ignore_index=True)"
      ],
      "execution_count": 27,
      "outputs": []
    },
    {
      "cell_type": "code",
      "metadata": {
        "id": "19ta0SOCMmT6"
      },
      "source": [
        "toronto = toronto[toronto.Borough!='Not assigned']\n",
        "toronto = toronto[toronto.Borough!= 0]\n",
        "toronto.reset_index(drop = True, inplace = True)\n",
        "i = 0\n",
        "for i in range(0,toronto.shape[0]):\n",
        "    if toronto.iloc[i][2] == 'Not assigned':\n",
        "        toronto.iloc[i][2] = toronto.iloc[i][1]\n",
        "        i = i+1"
      ],
      "execution_count": 28,
      "outputs": []
    },
    {
      "cell_type": "code",
      "metadata": {
        "colab": {
          "base_uri": "https://localhost:8080/",
          "height": 669
        },
        "id": "iaeFccDqJDPn",
        "outputId": "22422df4-0d42-4f88-ea05-450afa43ecb9"
      },
      "source": [
        "df = toronto.groupby(['Postalcode','Borough'])['Neighborhood'].apply(', '.join).reset_index()\n",
        "df"
      ],
      "execution_count": 29,
      "outputs": [
        {
          "output_type": "execute_result",
          "data": {
            "text/html": [
              "<div>\n",
              "<style scoped>\n",
              "    .dataframe tbody tr th:only-of-type {\n",
              "        vertical-align: middle;\n",
              "    }\n",
              "\n",
              "    .dataframe tbody tr th {\n",
              "        vertical-align: top;\n",
              "    }\n",
              "\n",
              "    .dataframe thead th {\n",
              "        text-align: right;\n",
              "    }\n",
              "</style>\n",
              "<table border=\"1\" class=\"dataframe\">\n",
              "  <thead>\n",
              "    <tr style=\"text-align: right;\">\n",
              "      <th></th>\n",
              "      <th>Postalcode</th>\n",
              "      <th>Borough</th>\n",
              "      <th>Neighborhood</th>\n",
              "    </tr>\n",
              "  </thead>\n",
              "  <tbody>\n",
              "    <tr>\n",
              "      <th>0</th>\n",
              "      <td>\\nM1ANot assigned\\n\\n</td>\n",
              "      <td>\\nM2ANot assigned\\n\\n</td>\n",
              "      <td>M9AEtobicoke(Islington Avenue)</td>\n",
              "    </tr>\n",
              "    <tr>\n",
              "      <th>1</th>\n",
              "      <td>\\nM1BScarborough(Malvern / Rouge)\\n\\n</td>\n",
              "      <td>\\nM2BNot assigned\\n\\n</td>\n",
              "      <td>M9BEtobicoke(West Deane Park / Princess Garden...</td>\n",
              "    </tr>\n",
              "    <tr>\n",
              "      <th>2</th>\n",
              "      <td>\\nM1CScarborough(Rouge Hill / Port Union / Hig...</td>\n",
              "      <td>\\nM2CNot assigned\\n\\n</td>\n",
              "      <td>M9CEtobicoke(Eringate / Bloordale Gardens / Ol...</td>\n",
              "    </tr>\n",
              "    <tr>\n",
              "      <th>3</th>\n",
              "      <td>\\nM1EScarborough(Guildwood / Morningside / Wes...</td>\n",
              "      <td>\\nM2ENot assigned\\n\\n</td>\n",
              "      <td>M9ENot assigned</td>\n",
              "    </tr>\n",
              "    <tr>\n",
              "      <th>4</th>\n",
              "      <td>\\nM1GScarborough(Woburn)\\n\\n</td>\n",
              "      <td>\\nM2GNot assigned\\n\\n</td>\n",
              "      <td>M9GNot assigned</td>\n",
              "    </tr>\n",
              "    <tr>\n",
              "      <th>5</th>\n",
              "      <td>\\nM1HScarborough(Cedarbrae)\\n\\n</td>\n",
              "      <td>\\nM2HNorth York(Hillcrest Village)\\n\\n</td>\n",
              "      <td>M9HNot assigned</td>\n",
              "    </tr>\n",
              "    <tr>\n",
              "      <th>6</th>\n",
              "      <td>\\nM1JScarborough(Scarborough Village)\\n\\n</td>\n",
              "      <td>\\nM2JNorth York(Fairview / Henry Farm / Oriole...</td>\n",
              "      <td>M9JNot assigned</td>\n",
              "    </tr>\n",
              "    <tr>\n",
              "      <th>7</th>\n",
              "      <td>\\nM1KScarborough(Kennedy Park / Ionview / East...</td>\n",
              "      <td>\\nM2KNorth York(Bayview Village)\\n\\n</td>\n",
              "      <td>M9KNot assigned</td>\n",
              "    </tr>\n",
              "    <tr>\n",
              "      <th>8</th>\n",
              "      <td>\\nM1LScarborough(Golden Mile / Clairlea / Oakr...</td>\n",
              "      <td>\\nM2LNorth York(York Mills / Silver Hills)\\n\\n</td>\n",
              "      <td>M9LNorth York(Humber Summit)</td>\n",
              "    </tr>\n",
              "    <tr>\n",
              "      <th>9</th>\n",
              "      <td>\\nM1MScarborough(Cliffside / Cliffcrest / Scar...</td>\n",
              "      <td>\\nM2MNorth York(Willowdale / Newtonbrook)\\n\\n</td>\n",
              "      <td>M9MNorth York(Humberlea / Emery)</td>\n",
              "    </tr>\n",
              "    <tr>\n",
              "      <th>10</th>\n",
              "      <td>\\nM1NScarborough(Birch Cliff / Cliffside West)...</td>\n",
              "      <td>\\nM2NNorth York(Willowdale)South\\n\\n</td>\n",
              "      <td>M9NYork(Weston)</td>\n",
              "    </tr>\n",
              "    <tr>\n",
              "      <th>11</th>\n",
              "      <td>\\nM1PScarborough(Dorset Park / Wexford Heights...</td>\n",
              "      <td>\\nM2PNorth York(York Mills West)\\n\\n</td>\n",
              "      <td>M9PEtobicoke(Westmount)</td>\n",
              "    </tr>\n",
              "    <tr>\n",
              "      <th>12</th>\n",
              "      <td>\\nM1RScarborough(Wexford / Maryvale)\\n\\n</td>\n",
              "      <td>\\nM2RNorth York(Willowdale)West\\n\\n</td>\n",
              "      <td>M9REtobicoke(Kingsview Village / St. Phillips ...</td>\n",
              "    </tr>\n",
              "    <tr>\n",
              "      <th>13</th>\n",
              "      <td>\\nM1SScarborough(Agincourt) \\n\\n</td>\n",
              "      <td>\\nM2SNot assigned\\n\\n</td>\n",
              "      <td>M9SNot assigned</td>\n",
              "    </tr>\n",
              "    <tr>\n",
              "      <th>14</th>\n",
              "      <td>\\nM1TScarborough(Clarks Corners / Tam O'Shante...</td>\n",
              "      <td>\\nM2TNot assigned\\n\\n</td>\n",
              "      <td>M9TNot assigned</td>\n",
              "    </tr>\n",
              "    <tr>\n",
              "      <th>15</th>\n",
              "      <td>\\nM1VScarborough(Milliken / Agincourt North / ...</td>\n",
              "      <td>\\nM2VNot assigned\\n\\n</td>\n",
              "      <td>M9VEtobicoke(South Steeles / Silverstone / Hum...</td>\n",
              "    </tr>\n",
              "    <tr>\n",
              "      <th>16</th>\n",
              "      <td>\\nM1WScarborough(Steeles West / L'Amoreaux Wes...</td>\n",
              "      <td>\\nM2WNot assigned\\n\\n</td>\n",
              "      <td>M9WEtobicokeNorthwest(Clairville / Humberwood ...</td>\n",
              "    </tr>\n",
              "    <tr>\n",
              "      <th>17</th>\n",
              "      <td>\\nM1XScarborough(Upper Rouge)\\n\\n</td>\n",
              "      <td>\\nM2XNot assigned\\n\\n</td>\n",
              "      <td>M9XNot assigned</td>\n",
              "    </tr>\n",
              "    <tr>\n",
              "      <th>18</th>\n",
              "      <td>\\nM1YNot assigned\\n\\n</td>\n",
              "      <td>\\nM2YNot assigned\\n\\n</td>\n",
              "      <td>M9YNot assigned</td>\n",
              "    </tr>\n",
              "    <tr>\n",
              "      <th>19</th>\n",
              "      <td>\\nM1ZNot assigned\\n\\n</td>\n",
              "      <td>\\nM2ZNot assigned\\n\\n</td>\n",
              "      <td>M9ZNot assigned</td>\n",
              "    </tr>\n",
              "  </tbody>\n",
              "</table>\n",
              "</div>"
            ],
            "text/plain": [
              "                                           Postalcode  ...                                       Neighborhood\n",
              "0                               \\nM1ANot assigned\\n\\n  ...                     M9AEtobicoke(Islington Avenue)\n",
              "1               \\nM1BScarborough(Malvern / Rouge)\\n\\n  ...  M9BEtobicoke(West Deane Park / Princess Garden...\n",
              "2   \\nM1CScarborough(Rouge Hill / Port Union / Hig...  ...  M9CEtobicoke(Eringate / Bloordale Gardens / Ol...\n",
              "3   \\nM1EScarborough(Guildwood / Morningside / Wes...  ...                                    M9ENot assigned\n",
              "4                        \\nM1GScarborough(Woburn)\\n\\n  ...                                    M9GNot assigned\n",
              "5                     \\nM1HScarborough(Cedarbrae)\\n\\n  ...                                    M9HNot assigned\n",
              "6           \\nM1JScarborough(Scarborough Village)\\n\\n  ...                                    M9JNot assigned\n",
              "7   \\nM1KScarborough(Kennedy Park / Ionview / East...  ...                                    M9KNot assigned\n",
              "8   \\nM1LScarborough(Golden Mile / Clairlea / Oakr...  ...                       M9LNorth York(Humber Summit)\n",
              "9   \\nM1MScarborough(Cliffside / Cliffcrest / Scar...  ...                   M9MNorth York(Humberlea / Emery)\n",
              "10  \\nM1NScarborough(Birch Cliff / Cliffside West)...  ...                                    M9NYork(Weston)\n",
              "11  \\nM1PScarborough(Dorset Park / Wexford Heights...  ...                            M9PEtobicoke(Westmount)\n",
              "12           \\nM1RScarborough(Wexford / Maryvale)\\n\\n  ...  M9REtobicoke(Kingsview Village / St. Phillips ...\n",
              "13                   \\nM1SScarborough(Agincourt) \\n\\n  ...                                    M9SNot assigned\n",
              "14  \\nM1TScarborough(Clarks Corners / Tam O'Shante...  ...                                    M9TNot assigned\n",
              "15  \\nM1VScarborough(Milliken / Agincourt North / ...  ...  M9VEtobicoke(South Steeles / Silverstone / Hum...\n",
              "16  \\nM1WScarborough(Steeles West / L'Amoreaux Wes...  ...  M9WEtobicokeNorthwest(Clairville / Humberwood ...\n",
              "17                  \\nM1XScarborough(Upper Rouge)\\n\\n  ...                                    M9XNot assigned\n",
              "18                              \\nM1YNot assigned\\n\\n  ...                                    M9YNot assigned\n",
              "19                              \\nM1ZNot assigned\\n\\n  ...                                    M9ZNot assigned\n",
              "\n",
              "[20 rows x 3 columns]"
            ]
          },
          "metadata": {
            "tags": []
          },
          "execution_count": 29
        }
      ]
    },
    {
      "cell_type": "code",
      "metadata": {
        "colab": {
          "base_uri": "https://localhost:8080/",
          "height": 173
        },
        "id": "SmgCZI42LegX",
        "outputId": "7fb64d81-79aa-4072-8de0-d0a828ede532"
      },
      "source": [
        "df.describe()"
      ],
      "execution_count": 30,
      "outputs": [
        {
          "output_type": "execute_result",
          "data": {
            "text/html": [
              "<div>\n",
              "<style scoped>\n",
              "    .dataframe tbody tr th:only-of-type {\n",
              "        vertical-align: middle;\n",
              "    }\n",
              "\n",
              "    .dataframe tbody tr th {\n",
              "        vertical-align: top;\n",
              "    }\n",
              "\n",
              "    .dataframe thead th {\n",
              "        text-align: right;\n",
              "    }\n",
              "</style>\n",
              "<table border=\"1\" class=\"dataframe\">\n",
              "  <thead>\n",
              "    <tr style=\"text-align: right;\">\n",
              "      <th></th>\n",
              "      <th>Postalcode</th>\n",
              "      <th>Borough</th>\n",
              "      <th>Neighborhood</th>\n",
              "    </tr>\n",
              "  </thead>\n",
              "  <tbody>\n",
              "    <tr>\n",
              "      <th>count</th>\n",
              "      <td>20</td>\n",
              "      <td>20</td>\n",
              "      <td>20</td>\n",
              "    </tr>\n",
              "    <tr>\n",
              "      <th>unique</th>\n",
              "      <td>20</td>\n",
              "      <td>20</td>\n",
              "      <td>20</td>\n",
              "    </tr>\n",
              "    <tr>\n",
              "      <th>top</th>\n",
              "      <td>\\nM1YNot assigned\\n\\n</td>\n",
              "      <td>\\nM2WNot assigned\\n\\n</td>\n",
              "      <td>M9XNot assigned</td>\n",
              "    </tr>\n",
              "    <tr>\n",
              "      <th>freq</th>\n",
              "      <td>1</td>\n",
              "      <td>1</td>\n",
              "      <td>1</td>\n",
              "    </tr>\n",
              "  </tbody>\n",
              "</table>\n",
              "</div>"
            ],
            "text/plain": [
              "                   Postalcode                Borough     Neighborhood\n",
              "count                      20                     20               20\n",
              "unique                     20                     20               20\n",
              "top     \\nM1YNot assigned\\n\\n  \\nM2WNot assigned\\n\\n  M9XNot assigned\n",
              "freq                        1                      1                1"
            ]
          },
          "metadata": {
            "tags": []
          },
          "execution_count": 30
        }
      ]
    },
    {
      "cell_type": "code",
      "metadata": {
        "id": "8mLAG_QuKAgT"
      },
      "source": [
        "df = df.dropna()\n",
        "empty = 'Not assigned'\n",
        "df = df[(df.Postalcode != empty ) & (df.Borough != empty) & (df.Neighborhood != empty)]"
      ],
      "execution_count": 31,
      "outputs": []
    },
    {
      "cell_type": "code",
      "metadata": {
        "id": "bTY040OGKRxG"
      },
      "source": [
        "\n",
        "def neighborhood_list(grouped):    \n",
        "    return ', '.join(sorted(grouped['Neighborhood'].tolist()))\n",
        "                    \n",
        "grp = df.groupby(['Postalcode', 'Borough'])\n",
        "df_2 = grp.apply(neighborhood_list).reset_index(name='Neighborhood')"
      ],
      "execution_count": 32,
      "outputs": []
    },
    {
      "cell_type": "code",
      "metadata": {
        "colab": {
          "base_uri": "https://localhost:8080/",
          "height": 173
        },
        "id": "h_4RQcDjJFoc",
        "outputId": "f9ea4db1-f99e-401c-fab8-a6b1a7c6a5e3"
      },
      "source": [
        "df_2.describe()"
      ],
      "execution_count": 33,
      "outputs": [
        {
          "output_type": "execute_result",
          "data": {
            "text/html": [
              "<div>\n",
              "<style scoped>\n",
              "    .dataframe tbody tr th:only-of-type {\n",
              "        vertical-align: middle;\n",
              "    }\n",
              "\n",
              "    .dataframe tbody tr th {\n",
              "        vertical-align: top;\n",
              "    }\n",
              "\n",
              "    .dataframe thead th {\n",
              "        text-align: right;\n",
              "    }\n",
              "</style>\n",
              "<table border=\"1\" class=\"dataframe\">\n",
              "  <thead>\n",
              "    <tr style=\"text-align: right;\">\n",
              "      <th></th>\n",
              "      <th>Postalcode</th>\n",
              "      <th>Borough</th>\n",
              "      <th>Neighborhood</th>\n",
              "    </tr>\n",
              "  </thead>\n",
              "  <tbody>\n",
              "    <tr>\n",
              "      <th>count</th>\n",
              "      <td>20</td>\n",
              "      <td>20</td>\n",
              "      <td>20</td>\n",
              "    </tr>\n",
              "    <tr>\n",
              "      <th>unique</th>\n",
              "      <td>20</td>\n",
              "      <td>20</td>\n",
              "      <td>20</td>\n",
              "    </tr>\n",
              "    <tr>\n",
              "      <th>top</th>\n",
              "      <td>\\nM1YNot assigned\\n\\n</td>\n",
              "      <td>\\nM2WNot assigned\\n\\n</td>\n",
              "      <td>M9XNot assigned</td>\n",
              "    </tr>\n",
              "    <tr>\n",
              "      <th>freq</th>\n",
              "      <td>1</td>\n",
              "      <td>1</td>\n",
              "      <td>1</td>\n",
              "    </tr>\n",
              "  </tbody>\n",
              "</table>\n",
              "</div>"
            ],
            "text/plain": [
              "                   Postalcode                Borough     Neighborhood\n",
              "count                      20                     20               20\n",
              "unique                     20                     20               20\n",
              "top     \\nM1YNot assigned\\n\\n  \\nM2WNot assigned\\n\\n  M9XNot assigned\n",
              "freq                        1                      1                1"
            ]
          },
          "metadata": {
            "tags": []
          },
          "execution_count": 33
        }
      ]
    },
    {
      "cell_type": "code",
      "metadata": {
        "colab": {
          "base_uri": "https://localhost:8080/",
          "height": 223
        },
        "id": "wIDeGwHIJH1s",
        "outputId": "fe7a35fd-2319-4e4b-9273-ffde199e9ec2"
      },
      "source": [
        "print(df_2.shape)\n",
        "df_2.head()"
      ],
      "execution_count": 34,
      "outputs": [
        {
          "output_type": "stream",
          "text": [
            "(20, 3)\n"
          ],
          "name": "stdout"
        },
        {
          "output_type": "execute_result",
          "data": {
            "text/html": [
              "<div>\n",
              "<style scoped>\n",
              "    .dataframe tbody tr th:only-of-type {\n",
              "        vertical-align: middle;\n",
              "    }\n",
              "\n",
              "    .dataframe tbody tr th {\n",
              "        vertical-align: top;\n",
              "    }\n",
              "\n",
              "    .dataframe thead th {\n",
              "        text-align: right;\n",
              "    }\n",
              "</style>\n",
              "<table border=\"1\" class=\"dataframe\">\n",
              "  <thead>\n",
              "    <tr style=\"text-align: right;\">\n",
              "      <th></th>\n",
              "      <th>Postalcode</th>\n",
              "      <th>Borough</th>\n",
              "      <th>Neighborhood</th>\n",
              "    </tr>\n",
              "  </thead>\n",
              "  <tbody>\n",
              "    <tr>\n",
              "      <th>0</th>\n",
              "      <td>\\nM1ANot assigned\\n\\n</td>\n",
              "      <td>\\nM2ANot assigned\\n\\n</td>\n",
              "      <td>M9AEtobicoke(Islington Avenue)</td>\n",
              "    </tr>\n",
              "    <tr>\n",
              "      <th>1</th>\n",
              "      <td>\\nM1BScarborough(Malvern / Rouge)\\n\\n</td>\n",
              "      <td>\\nM2BNot assigned\\n\\n</td>\n",
              "      <td>M9BEtobicoke(West Deane Park / Princess Garden...</td>\n",
              "    </tr>\n",
              "    <tr>\n",
              "      <th>2</th>\n",
              "      <td>\\nM1CScarborough(Rouge Hill / Port Union / Hig...</td>\n",
              "      <td>\\nM2CNot assigned\\n\\n</td>\n",
              "      <td>M9CEtobicoke(Eringate / Bloordale Gardens / Ol...</td>\n",
              "    </tr>\n",
              "    <tr>\n",
              "      <th>3</th>\n",
              "      <td>\\nM1EScarborough(Guildwood / Morningside / Wes...</td>\n",
              "      <td>\\nM2ENot assigned\\n\\n</td>\n",
              "      <td>M9ENot assigned</td>\n",
              "    </tr>\n",
              "    <tr>\n",
              "      <th>4</th>\n",
              "      <td>\\nM1GScarborough(Woburn)\\n\\n</td>\n",
              "      <td>\\nM2GNot assigned\\n\\n</td>\n",
              "      <td>M9GNot assigned</td>\n",
              "    </tr>\n",
              "  </tbody>\n",
              "</table>\n",
              "</div>"
            ],
            "text/plain": [
              "                                          Postalcode  ...                                       Neighborhood\n",
              "0                              \\nM1ANot assigned\\n\\n  ...                     M9AEtobicoke(Islington Avenue)\n",
              "1              \\nM1BScarborough(Malvern / Rouge)\\n\\n  ...  M9BEtobicoke(West Deane Park / Princess Garden...\n",
              "2  \\nM1CScarborough(Rouge Hill / Port Union / Hig...  ...  M9CEtobicoke(Eringate / Bloordale Gardens / Ol...\n",
              "3  \\nM1EScarborough(Guildwood / Morningside / Wes...  ...                                    M9ENot assigned\n",
              "4                       \\nM1GScarborough(Woburn)\\n\\n  ...                                    M9GNot assigned\n",
              "\n",
              "[5 rows x 3 columns]"
            ]
          },
          "metadata": {
            "tags": []
          },
          "execution_count": 34
        }
      ]
    },
    {
      "cell_type": "code",
      "metadata": {
        "id": "UAPWvDjyJUFJ"
      },
      "source": [
        ""
      ],
      "execution_count": null,
      "outputs": []
    }
  ]
}